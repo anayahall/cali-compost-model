{
 "cells": [
  {
   "cell_type": "code",
   "execution_count": 3,
   "metadata": {},
   "outputs": [],
   "source": [
    "import plotly.plotly as py\n",
    "import plotly.figure_factory as ff\n",
    "import plotly.graph_objs as go\n",
    "\n",
    "data = [['', 'Emma', 'Isabella', 'Ava', 'Olivia', 'Sophia', 'row-sum'],\n",
    "        ['Emma', 16, 3, 28, 0, 18, 65],\n",
    "        ['Isabella', 18, 0, 12, 5, 29, 64],\n",
    "        ['Ava', 9, 11, 17, 27, 0, 64],\n",
    "        ['Olivia', 19, 0, 31, 11, 12, 73],\n",
    "        ['Sophia', 23, 17, 10, 0, 34, 84]]\n",
    "\n",
    "table = ff.create_table(data, index=True)\n",
    "# py.iplot(table, filename='Data-Table')"
   ]
  },
  {
   "cell_type": "code",
   "execution_count": 4,
   "metadata": {},
   "outputs": [],
   "source": [
    "import numpy as np\n",
    "\n",
    "matrix=np.array([[16,  3, 28,  0, 18],\n",
    "                 [18,  0, 12,  5, 29],\n",
    "                 [ 9, 11, 17, 27,  0],\n",
    "                 [19,  0, 31, 11, 12],\n",
    "                 [23, 17, 10,  0, 34]], dtype=int)\n",
    "\n",
    "def check_data(data_matrix):\n",
    "    L, M=data_matrix.shape\n",
    "    if L!=M:\n",
    "        raise ValueError('Data array must have (n,n) shape')\n",
    "    return L\n",
    "\n",
    "L=check_data(matrix)"
   ]
  },
  {
   "cell_type": "code",
   "execution_count": 5,
   "metadata": {},
   "outputs": [],
   "source": [
    "PI=np.pi\n",
    "\n",
    "def moduloAB(x, a, b): #maps a real number onto the unit circle identified with \n",
    "                       #the interval [a,b), b-a=2*PI\n",
    "        if a>=b:\n",
    "            raise ValueError('Incorrect interval ends')\n",
    "        y=(x-a)%(b-a)\n",
    "        return y+b if y<0 else y+a\n",
    "\n",
    "def test_2PI(x):\n",
    "    return 0<= x <2*PI"
   ]
  },
  {
   "cell_type": "code",
   "execution_count": 6,
   "metadata": {},
   "outputs": [],
   "source": [
    "row_sum=[np.sum(matrix[k,:]) for k in range(L)]\n",
    "\n",
    "#set the gap between two consecutive ideograms\n",
    "gap=2*PI*0.005\n",
    "ideogram_length=2*PI*np.asarray(row_sum)/sum(row_sum)-gap*np.ones(L)"
   ]
  },
  {
   "cell_type": "code",
   "execution_count": 7,
   "metadata": {},
   "outputs": [
    {
     "data": {
      "text/plain": [
       "[[0, 1.1354613447974538],\n",
       " [1.1668772713333517, 2.284386658110292],\n",
       " [2.31580258464619, 3.43331197142313],\n",
       " [3.464727897959028, 4.7438049069205865],\n",
       " [4.775220833456484, 6.251769380643687]]"
      ]
     },
     "execution_count": 7,
     "metadata": {},
     "output_type": "execute_result"
    }
   ],
   "source": [
    "def get_ideogram_ends(ideogram_len, gap):\n",
    "    ideo_ends=[]\n",
    "    left=0\n",
    "    for k in range(len(ideogram_len)):\n",
    "        right=left+ideogram_len[k]\n",
    "        ideo_ends.append([left, right])\n",
    "        left=right+gap\n",
    "    return ideo_ends\n",
    "\n",
    "ideo_ends=get_ideogram_ends(ideogram_length, gap)\n",
    "ideo_ends"
   ]
  },
  {
   "cell_type": "code",
   "execution_count": 8,
   "metadata": {},
   "outputs": [],
   "source": [
    "def make_ideogram_arc(R, phi, a=50):\n",
    "    # R is the circle radius\n",
    "    # phi is the list of ends angle coordinates of an arc\n",
    "    # a is a parameter that controls the number of points to be evaluated on an arc\n",
    "    if not test_2PI(phi[0]) or not test_2PI(phi[1]):\n",
    "        phi=[moduloAB(t, 0, 2*PI) for t in phi]\n",
    "    length=(phi[1]-phi[0])% 2*PI\n",
    "    nr=5 if length<=PI/4 else int(a*length/PI)\n",
    "\n",
    "    if phi[0] < phi[1]:\n",
    "        theta=np.linspace(phi[0], phi[1], nr)\n",
    "    else:\n",
    "        phi=[moduloAB(t, -PI, PI) for t in phi]\n",
    "        theta=np.linspace(phi[0], phi[1], nr)\n",
    "    return R*np.exp(1j*theta)"
   ]
  },
  {
   "cell_type": "code",
   "execution_count": 10,
   "metadata": {},
   "outputs": [
    {
     "name": "stdout",
     "output_type": "stream",
     "text": [
      "[1.12583302-0.65j       1.14814501-0.60972373j 1.16901672-0.5686826j\n",
      " 1.18842197-0.5269281j  1.20633642-0.48451259j 1.22273759-0.44148929j\n",
      " 1.23760491-0.39791217j 1.25091973-0.3538359j  1.26266534-0.30931575j\n",
      " 1.27282702-0.26440759j 1.28139202-0.21916775j 1.28834958-0.17365297j\n",
      " 1.29369099-0.12792036j 1.29740954-0.08202728j 1.29950058-0.0360313j\n",
      " 1.29996146+0.01000988j 1.29879163+0.0560385j  1.29599253+0.10199682j\n",
      " 1.2915677 +0.1478272j  1.28552267+0.19347214j 1.27786503+0.23887437j]\n"
     ]
    }
   ],
   "source": [
    "z=make_ideogram_arc(1.3, [11*PI/6, PI/17])\n",
    "print(z)"
   ]
  },
  {
   "cell_type": "code",
   "execution_count": 11,
   "metadata": {},
   "outputs": [],
   "source": [
    "labels=['Emma', 'Isabella', 'Ava', 'Olivia', 'Sophia']\n",
    "ideo_colors=['rgba(244, 109, 67, 0.75)',\n",
    "             'rgba(253, 174, 97, 0.75)',\n",
    "             'rgba(254, 224, 139, 0.75)',\n",
    "             'rgba(217, 239, 139, 0.75)',\n",
    "             'rgba(166, 217, 106, 0.75)']#brewer colors with alpha set on 0.75"
   ]
  },
  {
   "cell_type": "code",
   "execution_count": 12,
   "metadata": {},
   "outputs": [
    {
     "data": {
      "text/plain": [
       "array([[0.27949818, 0.05240591, 0.48912181, 0.        , 0.31443545],\n",
       "       [0.31429952, 0.        , 0.20953301, 0.08730542, 0.50637144],\n",
       "       [0.15714976, 0.19207193, 0.29683843, 0.47144927, 0.        ],\n",
       "       [0.33291045, 0.        , 0.54316969, 0.19273763, 0.21025923],\n",
       "       [0.40429305, 0.2988253 , 0.17577959, 0.        , 0.5976506 ]])"
      ]
     },
     "execution_count": 12,
     "metadata": {},
     "output_type": "execute_result"
    }
   ],
   "source": [
    "def map_data(data_matrix, row_value, ideogram_length):\n",
    "    mapped=np.zeros(data_matrix.shape)\n",
    "    for j  in range(L):\n",
    "        mapped[:, j]=ideogram_length*data_matrix[:,j]/row_value\n",
    "    return mapped\n",
    "\n",
    "mapped_data=map_data(matrix, row_sum, ideogram_length)\n",
    "mapped_data"
   ]
  },
  {
   "cell_type": "code",
   "execution_count": 13,
   "metadata": {},
   "outputs": [
    {
     "data": {
      "text/plain": [
       "array([[3, 1, 0, 4, 2],\n",
       "       [1, 3, 2, 0, 4],\n",
       "       [4, 0, 1, 2, 3],\n",
       "       [1, 3, 4, 0, 2],\n",
       "       [3, 2, 1, 0, 4]])"
      ]
     },
     "execution_count": 13,
     "metadata": {},
     "output_type": "execute_result"
    }
   ],
   "source": [
    "idx_sort=np.argsort(mapped_data, axis=1)\n",
    "idx_sort"
   ]
  },
  {
   "cell_type": "code",
   "execution_count": 15,
   "metadata": {},
   "outputs": [
    {
     "name": "stdout",
     "output_type": "stream",
     "text": [
      "ribbon ends starting from the ideogram[2]\n",
      " [(2.31580258464619, 2.31580258464619), (2.31580258464619, 2.472952342161697), (2.472952342161697, 2.6650242680139837), (2.6650242680139837, 2.9618626988766086), (2.9618626988766086, 3.43331197142313)]\n"
     ]
    }
   ],
   "source": [
    "def make_ribbon_ends(mapped_data, ideo_ends,  idx_sort):\n",
    "    L=mapped_data.shape[0]\n",
    "    ribbon_boundary=np.zeros((L,L+1))\n",
    "    for k in range(L):\n",
    "        start=ideo_ends[k][0]\n",
    "        ribbon_boundary[k][0]=start\n",
    "        for j in range(1,L+1):\n",
    "            J=idx_sort[k][j-1]\n",
    "            ribbon_boundary[k][j]=start+mapped_data[k][J]\n",
    "            start=ribbon_boundary[k][j]\n",
    "    return [[(ribbon_boundary[k][j],ribbon_boundary[k][j+1] ) for j in range(L)] for k in range(L)]\n",
    "\n",
    "ribbon_ends=make_ribbon_ends(mapped_data, ideo_ends,  idx_sort)\n",
    "print('ribbon ends starting from the ideogram[2]\\n', ribbon_ends[2])\n"
   ]
  },
  {
   "cell_type": "code",
   "execution_count": 16,
   "metadata": {},
   "outputs": [],
   "source": [
    "def control_pts(angle, radius):\n",
    "    #angle is a  3-list containing angular coordinates of the control points b0, b1, b2\n",
    "    #radius is the distance from b1 to the  origin O(0,0) \n",
    "\n",
    "    if len(angle)!=3:\n",
    "        raise InvalidInputError('angle must have len =3')\n",
    "    b_cplx=np.array([np.exp(1j*angle[k]) for k in range(3)])\n",
    "    b_cplx[1]=radius*b_cplx[1]\n",
    "    return zip(b_cplx.real, b_cplx.imag)"
   ]
  },
  {
   "cell_type": "code",
   "execution_count": 17,
   "metadata": {},
   "outputs": [],
   "source": [
    "def ctrl_rib_chords(l, r, radius):\n",
    "    # this function returns a 2-list containing control poligons of the two quadratic Bezier\n",
    "    #curves that are opposite sides in a ribbon\n",
    "    #l (r) the list of angular variables of the ribbon arc ends defining \n",
    "    #the ribbon starting (ending) arc \n",
    "    # radius is a common parameter for both control polygons\n",
    "    if len(l)!=2 or len(r)!=2:\n",
    "        raise ValueError('the arc ends must be elements in a list of len 2')\n",
    "    return [control_pts([l[j], (l[j]+r[j])/2, r[j]], radius) for j in range(2)]"
   ]
  },
  {
   "cell_type": "code",
   "execution_count": 18,
   "metadata": {},
   "outputs": [],
   "source": [
    "ribbon_color=[L*[ideo_colors[k]] for k in range(L)]"
   ]
  },
  {
   "cell_type": "code",
   "execution_count": 19,
   "metadata": {},
   "outputs": [],
   "source": [
    "ribbon_color[0][4]=ideo_colors[4]\n",
    "ribbon_color[1][2]=ideo_colors[2]\n",
    "ribbon_color[2][3]=ideo_colors[3]\n",
    "ribbon_color[2][4]=ideo_colors[4]"
   ]
  },
  {
   "cell_type": "code",
   "execution_count": 20,
   "metadata": {},
   "outputs": [
    {
     "data": {
      "text/plain": [
       "'M 1,4 Q -0.5, 2.35 3.745, 1.47'"
      ]
     },
     "execution_count": 20,
     "metadata": {},
     "output_type": "execute_result"
    }
   ],
   "source": [
    "def make_q_bezier(b):# defines the Plotly SVG path for a quadratic Bezier curve defined by the \n",
    "                     #list of its control points\n",
    "    if len(b)!=3:\n",
    "        raise valueError('control poligon must have 3 points')\n",
    "    A, B, C=b\n",
    "    return 'M '+str(A[0])+',' +str(A[1])+' '+'Q '+\\\n",
    "                str(B[0])+', '+str(B[1])+ ' '+\\\n",
    "                str(C[0])+', '+str(C[1])\n",
    "\n",
    "b=[(1,4), (-0.5, 2.35), (3.745, 1.47)]\n",
    "\n",
    "make_q_bezier(b)"
   ]
  },
  {
   "cell_type": "code",
   "execution_count": 21,
   "metadata": {},
   "outputs": [
    {
     "data": {
      "text/plain": [
       "'L 0.5000000000000001, 0.8660254037844386 L 0.5877852522924732, 0.8090169943749473 L 0.6691306063588583, 0.7431448254773941 L 0.7431448254773942, 0.6691306063588581 L 0.8090169943749475, 0.5877852522924731 L 0.8660254037844387, 0.49999999999999994 '"
      ]
     },
     "execution_count": 21,
     "metadata": {},
     "output_type": "execute_result"
    }
   ],
   "source": [
    "def make_ribbon_arc(theta0, theta1):\n",
    "\n",
    "    if test_2PI(theta0) and test_2PI(theta1):\n",
    "        if theta0 < theta1:\n",
    "            theta0= moduloAB(theta0, -PI, PI)\n",
    "            theta1= moduloAB(theta1, -PI, PI)\n",
    "            if theta0*theta1>0:\n",
    "                raise ValueError('incorrect angle coordinates for ribbon')\n",
    "\n",
    "        nr=int(40*(theta0-theta1)/PI)\n",
    "        if nr<=2: nr=3\n",
    "        theta=np.linspace(theta0, theta1, nr)\n",
    "        pts=np.exp(1j*theta)# points on arc in polar complex form\n",
    "\n",
    "        string_arc=''\n",
    "        for k in range(len(theta)):\n",
    "            string_arc+='L '+str(pts.real[k])+', '+str(pts.imag[k])+' '\n",
    "        return   string_arc\n",
    "    else:\n",
    "        raise ValueError('the angle coordinates for an arc side of a ribbon must be in [0, 2*pi]')\n",
    "\n",
    "make_ribbon_arc(np.pi/3, np.pi/6)"
   ]
  },
  {
   "cell_type": "code",
   "execution_count": 22,
   "metadata": {},
   "outputs": [],
   "source": [
    "def make_layout(title, plot_size):\n",
    "    axis=dict(showline=False, # hide axis line, grid, ticklabels and  title\n",
    "          zeroline=False,\n",
    "          showgrid=False,\n",
    "          showticklabels=False,\n",
    "          title=''\n",
    "          )\n",
    "\n",
    "    return go.Layout(title=title,\n",
    "                  xaxis=dict(axis),\n",
    "                  yaxis=dict(axis),\n",
    "                  showlegend=False,\n",
    "                  width=plot_size,\n",
    "                  height=plot_size,\n",
    "                  margin=dict(t=25, b=25, l=25, r=25),\n",
    "                  hovermode='closest',\n",
    "                  shapes=[]# to this list one appends below the dicts defining the ribbon,\n",
    "                           #respectively the ideogram shapes\n",
    "                 )"
   ]
  },
  {
   "cell_type": "code",
   "execution_count": 23,
   "metadata": {},
   "outputs": [],
   "source": [
    "def make_ideo_shape(path, line_color, fill_color):\n",
    "    #line_color is the color of the shape boundary\n",
    "    #fill_collor is the color assigned to an ideogram\n",
    "    return  dict(\n",
    "                  line=dict(\n",
    "                  color=line_color,\n",
    "                  width=0.45\n",
    "                 ),\n",
    "\n",
    "            path=  path,\n",
    "            type='path',\n",
    "            fillcolor=fill_color,\n",
    "            layer='below'\n",
    "        )\n"
   ]
  },
  {
   "cell_type": "code",
   "execution_count": 24,
   "metadata": {},
   "outputs": [],
   "source": [
    "def make_ribbon(l, r, line_color, fill_color, radius=0.2):\n",
    "    #l=[l[0], l[1]], r=[r[0], r[1]]  represent the opposite arcs in the ribbon \n",
    "    #line_color is the color of the shape boundary\n",
    "    #fill_color is the fill color for the ribbon shape\n",
    "    poligon=ctrl_rib_chords(l,r, radius)\n",
    "    b,c =poligon\n",
    "\n",
    "    return  dict(\n",
    "                line=dict(\n",
    "                color=line_color, width=0.5\n",
    "            ),\n",
    "            path=  make_q_bezier(b)+make_ribbon_arc(r[0], r[1])+\n",
    "                   make_q_bezier(c[::-1])+make_ribbon_arc(l[1], l[0]),\n",
    "            type='path',\n",
    "            fillcolor=fill_color,\n",
    "            layer='below'\n",
    "        )\n",
    "\n",
    "def make_self_rel(l, line_color, fill_color, radius):\n",
    "    #radius is the radius of Bezier control point b_1\n",
    "    b=control_pts([l[0], (l[0]+l[1])/2, l[1]], radius)\n",
    "    return  dict(\n",
    "                line=dict(\n",
    "                color=line_color, width=0.5\n",
    "            ),\n",
    "            path=  make_q_bezier(b)+make_ribbon_arc(l[1], l[0]),\n",
    "            type='path',\n",
    "            fillcolor=fill_color,\n",
    "            layer='below'\n",
    "        )\n",
    "\n",
    "def invPerm(perm):\n",
    "    # function that returns the inverse of a permutation, perm\n",
    "    inv = [0] * len(perm)\n",
    "    for i, s in enumerate(perm):\n",
    "        inv[s] = i\n",
    "    return inv\n",
    "\n",
    "layout=make_layout('Chord diagram', 400)"
   ]
  },
  {
   "cell_type": "code",
   "execution_count": 25,
   "metadata": {},
   "outputs": [],
   "source": [
    "radii_sribb=[0.4, 0.30, 0.35, 0.39, 0.12]# these value are set after a few trials \n"
   ]
  },
  {
   "cell_type": "code",
   "execution_count": 28,
   "metadata": {},
   "outputs": [
    {
     "ename": "TypeError",
     "evalue": "list indices must be integers or slices, not str",
     "output_type": "error",
     "traceback": [
      "\u001b[0;31m---------------------------------------------------------------------------\u001b[0m",
      "\u001b[0;31mTypeError\u001b[0m                                 Traceback (most recent call last)",
      "\u001b[0;32m<ipython-input-28-e0383d69cc79>\u001b[0m in \u001b[0;36m<module>\u001b[0;34m()\u001b[0m\n\u001b[1;32m     12\u001b[0m         \u001b[0;32mif\u001b[0m \u001b[0mj\u001b[0m\u001b[0;34m==\u001b[0m\u001b[0mk\u001b[0m\u001b[0;34m:\u001b[0m\u001b[0;34m\u001b[0m\u001b[0;34m\u001b[0m\u001b[0m\n\u001b[1;32m     13\u001b[0m \u001b[0;31m#             layout = list(layout)\u001b[0m\u001b[0;34m\u001b[0m\u001b[0;34m\u001b[0m\u001b[0;34m\u001b[0m\u001b[0m\n\u001b[0;32m---> 14\u001b[0;31m             layout['shapes'].append(make_self_rel(l, 'rgb(175,175,175)' ,\n\u001b[0m\u001b[1;32m     15\u001b[0m                                     ideo_colors[k], radius=radii_sribb[k]))\n\u001b[1;32m     16\u001b[0m             \u001b[0mz\u001b[0m\u001b[0;34m=\u001b[0m\u001b[0;36m0.9\u001b[0m\u001b[0;34m*\u001b[0m\u001b[0mnp\u001b[0m\u001b[0;34m.\u001b[0m\u001b[0mexp\u001b[0m\u001b[0;34m(\u001b[0m\u001b[0;36m1j\u001b[0m\u001b[0;34m*\u001b[0m\u001b[0;34m(\u001b[0m\u001b[0ml\u001b[0m\u001b[0;34m[\u001b[0m\u001b[0;36m0\u001b[0m\u001b[0;34m]\u001b[0m\u001b[0;34m+\u001b[0m\u001b[0ml\u001b[0m\u001b[0;34m[\u001b[0m\u001b[0;36m1\u001b[0m\u001b[0;34m]\u001b[0m\u001b[0;34m)\u001b[0m\u001b[0;34m/\u001b[0m\u001b[0;36m2\u001b[0m\u001b[0;34m)\u001b[0m\u001b[0;34m\u001b[0m\u001b[0;34m\u001b[0m\u001b[0m\n",
      "\u001b[0;31mTypeError\u001b[0m: list indices must be integers or slices, not str"
     ]
    }
   ],
   "source": [
    "ribbon_info=[]\n",
    "for k in range(L):\n",
    "\n",
    "    sigma=idx_sort[k]\n",
    "    sigma_inv=invPerm(sigma)\n",
    "    for j in range(k, L):\n",
    "        if matrix[k][j]==0 and matrix[j][k]==0: continue\n",
    "        eta=idx_sort[j]\n",
    "        eta_inv=invPerm(eta)\n",
    "        l=ribbon_ends[k][sigma_inv[j]]\n",
    "\n",
    "        if j==k:\n",
    "#             layout = list(layout)\n",
    "            layout['shapes'].append(make_self_rel(l, 'rgb(175,175,175)' ,\n",
    "                                    ideo_colors[k], radius=radii_sribb[k]))\n",
    "            z=0.9*np.exp(1j*(l[0]+l[1])/2)\n",
    "            #the text below will be displayed when hovering the mouse over the ribbon\n",
    "            text=labels[k]+' commented on '+ '{:d}'.format(matrix[k][k])+' of '+ 'herself Fb posts',\n",
    "            ribbon_info.append(go.Scatter(x=[z.real],\n",
    "                                       y=[z.imag],\n",
    "                                       mode='markers',\n",
    "                                       marker=dict(size=0.5, color=ideo_colors[k]),\n",
    "                                       text=text,\n",
    "                                       hoverinfo='text'\n",
    "                                       )\n",
    "                              )\n",
    "        else:\n",
    "            r=ribbon_ends[j][eta_inv[k]]\n",
    "            zi=0.9*np.exp(1j*(l[0]+l[1])/2)\n",
    "            zf=0.9*np.exp(1j*(r[0]+r[1])/2)\n",
    "            #texti and textf are the strings that will be displayed when hovering the mouse \n",
    "            #over the two ribbon ends\n",
    "            texti=labels[k]+' commented on '+ '{:d}'.format(matrix[k][j])+' of '+\\\n",
    "                  labels[j]+ ' Fb posts',\n",
    "\n",
    "            textf=labels[j]+' commented on '+ '{:d}'.format(matrix[j][k])+' of '+\\\n",
    "            labels[k]+ ' Fb posts',\n",
    "            ribbon_info.append(go.Scatter(x=[zi.real],\n",
    "                                       y=[zi.imag],\n",
    "                                       mode='markers',\n",
    "                                       marker=dict(size=0.5, color=ribbon_color[k][j]),\n",
    "                                       text=texti,\n",
    "                                       hoverinfo='text'\n",
    "                                       )\n",
    "                              ),\n",
    "            ribbon_info.append(go.Scatter(x=[zf.real],\n",
    "                                       y=[zf.imag],\n",
    "                                       mode='markers',\n",
    "                                       marker=dict(size=0.5, color=ribbon_color[k][j]),\n",
    "                                       text=textf,\n",
    "                                       hoverinfo='text'\n",
    "                                       )\n",
    "                              )\n",
    "            r=(r[1], r[0])#IMPORTANT!!!  Reverse these arc ends because otherwise you get\n",
    "                          # a twisted ribbon\n",
    "            #append the ribbon shape\n",
    "            layout['shapes'].append(make_ribbon(l, r, 'rgb(175,175,175)' , ribbon_color[k][j]))\n",
    "\n",
    "\n"
   ]
  },
  {
   "cell_type": "code",
   "execution_count": 29,
   "metadata": {},
   "outputs": [
    {
     "ename": "TypeError",
     "evalue": "list indices must be integers or slices, not str",
     "output_type": "error",
     "traceback": [
      "\u001b[0;31m---------------------------------------------------------------------------\u001b[0m",
      "\u001b[0;31mTypeError\u001b[0m                                 Traceback (most recent call last)",
      "\u001b[0;32m<ipython-input-29-0e86e07da939>\u001b[0m in \u001b[0;36m<module>\u001b[0;34m()\u001b[0m\n\u001b[1;32m     25\u001b[0m     \u001b[0mpath\u001b[0m\u001b[0;34m+=\u001b[0m\u001b[0mstr\u001b[0m\u001b[0;34m(\u001b[0m\u001b[0mz\u001b[0m\u001b[0;34m.\u001b[0m\u001b[0mreal\u001b[0m\u001b[0;34m[\u001b[0m\u001b[0;36m0\u001b[0m\u001b[0;34m]\u001b[0m\u001b[0;34m)\u001b[0m\u001b[0;34m+\u001b[0m\u001b[0;34m' ,'\u001b[0m\u001b[0;34m+\u001b[0m\u001b[0mstr\u001b[0m\u001b[0;34m(\u001b[0m\u001b[0mz\u001b[0m\u001b[0;34m.\u001b[0m\u001b[0mimag\u001b[0m\u001b[0;34m[\u001b[0m\u001b[0;36m0\u001b[0m\u001b[0;34m]\u001b[0m\u001b[0;34m)\u001b[0m\u001b[0;34m\u001b[0m\u001b[0;34m\u001b[0m\u001b[0m\n\u001b[1;32m     26\u001b[0m \u001b[0;34m\u001b[0m\u001b[0m\n\u001b[0;32m---> 27\u001b[0;31m     \u001b[0mlayout\u001b[0m\u001b[0;34m[\u001b[0m\u001b[0;34m'shapes'\u001b[0m\u001b[0;34m]\u001b[0m\u001b[0;34m.\u001b[0m\u001b[0mappend\u001b[0m\u001b[0;34m(\u001b[0m\u001b[0mmake_ideo_shape\u001b[0m\u001b[0;34m(\u001b[0m\u001b[0mpath\u001b[0m\u001b[0;34m,\u001b[0m\u001b[0;34m'rgb(150,150,150)'\u001b[0m \u001b[0;34m,\u001b[0m \u001b[0mideo_colors\u001b[0m\u001b[0;34m[\u001b[0m\u001b[0mk\u001b[0m\u001b[0;34m]\u001b[0m\u001b[0;34m)\u001b[0m\u001b[0;34m)\u001b[0m\u001b[0;34m\u001b[0m\u001b[0;34m\u001b[0m\u001b[0m\n\u001b[0m\u001b[1;32m     28\u001b[0m \u001b[0;34m\u001b[0m\u001b[0m\n\u001b[1;32m     29\u001b[0m \u001b[0mdata\u001b[0m \u001b[0;34m=\u001b[0m \u001b[0mgo\u001b[0m\u001b[0;34m.\u001b[0m\u001b[0mData\u001b[0m\u001b[0;34m(\u001b[0m\u001b[0mideograms\u001b[0m\u001b[0;34m+\u001b[0m\u001b[0mribbon_info\u001b[0m\u001b[0;34m)\u001b[0m\u001b[0;34m\u001b[0m\u001b[0;34m\u001b[0m\u001b[0m\n",
      "\u001b[0;31mTypeError\u001b[0m: list indices must be integers or slices, not str"
     ]
    }
   ],
   "source": [
    "ideograms=[]\n",
    "for k in range(len(ideo_ends)):\n",
    "    z= make_ideogram_arc(1.1, ideo_ends[k])\n",
    "    zi=make_ideogram_arc(1.0, ideo_ends[k])\n",
    "    m=len(z)\n",
    "    n=len(zi)\n",
    "    ideograms.append(go.Scatter(x=z.real,\n",
    "                             y=z.imag,\n",
    "                             mode='lines',\n",
    "                             line=dict(color=ideo_colors[k], shape='spline', width=0.25),\n",
    "                             text=labels[k]+'<br>'+'{:d}'.format(row_sum[k]),\n",
    "                             hoverinfo='text'\n",
    "                             )\n",
    "                     )\n",
    "\n",
    "\n",
    "    path='M '\n",
    "    for s in range(m):\n",
    "        path+=str(z.real[s])+', '+str(z.imag[s])+' L '\n",
    "\n",
    "    Zi=np.array(zi.tolist()[::-1])\n",
    "\n",
    "    for s in range(m):\n",
    "        path+=str(Zi.real[s])+', '+str(Zi.imag[s])+' L '\n",
    "    path+=str(z.real[0])+' ,'+str(z.imag[0])\n",
    "\n",
    "    layout['shapes'].append(make_ideo_shape(path,'rgb(150,150,150)' , ideo_colors[k]))\n",
    "\n",
    "data = go.Data(ideograms+ribbon_info)\n",
    "fig = go.Figure(data=data, layout=layout)\n",
    "\n",
    "import plotly.offline as off\n",
    "off.init_notebook_mode()\n",
    "\n",
    "off.iplot(fig, filename='chord-diagram-Fb')"
   ]
  },
  {
   "cell_type": "code",
   "execution_count": 30,
   "metadata": {},
   "outputs": [
    {
     "data": {
      "text/html": [
       "<script>requirejs.config({paths: { 'plotly': ['https://cdn.plot.ly/plotly-latest.min']},});if(!window.Plotly) {{require(['plotly'],function(plotly) {window.Plotly=plotly;});}}</script>"
      ],
      "text/vnd.plotly.v1+html": [
       "<script>requirejs.config({paths: { 'plotly': ['https://cdn.plot.ly/plotly-latest.min']},});if(!window.Plotly) {{require(['plotly'],function(plotly) {window.Plotly=plotly;});}}</script>"
      ]
     },
     "metadata": {},
     "output_type": "display_data"
    },
    {
     "name": "stderr",
     "output_type": "stream",
     "text": [
      "/Users/anayahall/anaconda/lib/python3.6/site-packages/plotly/graph_objs/_deprecations.py:39: DeprecationWarning:\n",
      "\n",
      "plotly.graph_objs.Data is deprecated.\n",
      "Please replace it with a list or tuple of instances of the following types\n",
      "  - plotly.graph_objs.Scatter\n",
      "  - plotly.graph_objs.Bar\n",
      "  - plotly.graph_objs.Area\n",
      "  - plotly.graph_objs.Histogram\n",
      "  - etc.\n",
      "\n",
      "\n"
     ]
    },
    {
     "ename": "ValueError",
     "evalue": "\n    Invalid value of type 'builtins.list' received for the 'layout' property of \n        Received value: ['angularaxis', 'annotations', 'autosize', 'bargap', 'bargroupgap', 'barmode', 'barnorm', 'boxgap', 'boxgroupgap', 'boxmode', 'calendar', 'colorway', 'datarevision', 'direction', 'dragmode', 'font', 'geo', 'grid', 'height', 'hiddenlabels', 'hiddenlabelssrc', 'hidesources', 'hoverdistance', 'hoverlabel', 'hovermode', 'images', 'legend', 'mapbox', 'margin', 'orientation', 'paper_bgcolor', 'plot_bgcolor', 'polar', 'radialaxis', 'scene', 'selectdirection', 'separators', 'shapes', 'showlegend', 'sliders', 'spikedistance', 'template', 'ternary', 'title', 'titlefont', 'updatemenus', 'violingap', 'violingroupgap', 'violinmode', 'width', 'xaxis', 'yaxis']\n\n    The 'layout' property is an instance of Layout\n    that may be specified as:\n      - An instance of plotly.graph_objs.Layout\n      - A dict of string/value properties that will be passed\n        to the Layout constructor\n\n        Supported dict properties:\n            \n            angularaxis\n                plotly.graph_objs.layout.AngularAxis instance\n                or dict with compatible properties\n            annotations\n                plotly.graph_objs.layout.Annotation instance or\n                dict with compatible properties\n            autosize\n                Determines whether or not a layout width or\n                height that has been left undefined by the user\n                is initialized on each relayout. Note that,\n                regardless of this attribute, an undefined\n                layout width or height is always initialized on\n                the first call to plot.\n            bargap\n                Sets the gap (in plot fraction) between bars of\n                adjacent location coordinates.\n            bargroupgap\n                Sets the gap (in plot fraction) between bars of\n                the same location coordinate.\n            barmode\n                Determines how bars at the same location\n                coordinate are displayed on the graph. With\n                *stack*, the bars are stacked on top of one\n                another With *relative*, the bars are stacked\n                on top of one another, with negative values\n                below the axis, positive values above With\n                *group*, the bars are plotted next to one\n                another centered around the shared location.\n                With *overlay*, the bars are plotted over one\n                another, you might need to an *opacity* to see\n                multiple bars.\n            barnorm\n                Sets the normalization for bar traces on the\n                graph. With *fraction*, the value of each bar\n                is divide by the sum of the values at the\n                location coordinate. With *percent*, the\n                results form *fraction* are presented in\n                percents.\n            boxgap\n                Sets the gap (in plot fraction) between boxes\n                of adjacent location coordinates.\n            boxgroupgap\n                Sets the gap (in plot fraction) between boxes\n                of the same location coordinate.\n            boxmode\n                Determines how boxes at the same location\n                coordinate are displayed on the graph. If\n                *group*, the boxes are plotted next to one\n                another centered around the shared location. If\n                *overlay*, the boxes are plotted over one\n                another, you might need to set *opacity* to see\n                them multiple boxes.\n            calendar\n                Sets the default calendar system to use for\n                interpreting and displaying dates throughout\n                the plot.\n            colorway\n                Sets the default trace colors.\n            datarevision\n                If provided, a changed value tells\n                `Plotly.react` that one or more data arrays has\n                changed. This way you can modify arrays in-\n                place rather than making a complete new copy\n                for an incremental change. If NOT provided,\n                `Plotly.react` assumes that data arrays are\n                being treated as immutable, thus any data array\n                with a different identity from its predecessor\n                contains new data.\n            direction\n                For polar plots only. Sets the direction\n                corresponding to positive angles.\n            dragmode\n                Determines the mode of drag interactions.\n                *select* and *lasso* apply only to scatter\n                traces with markers or text. *orbit* and\n                *turntable* apply only to 3D scenes.\n            font\n                Sets the global font. Note that fonts used in\n                traces and other layout components inherit from\n                the global font.\n            geo\n                plotly.graph_objs.layout.Geo instance or dict\n                with compatible properties\n            grid\n                plotly.graph_objs.layout.Grid instance or dict\n                with compatible properties\n            height\n                Sets the plot's height (in px).\n            hiddenlabels\n\n            hiddenlabelssrc\n                Sets the source reference on plot.ly for\n                hiddenlabels .\n            hidesources\n                Determines whether or not a text link citing\n                the data source is placed at the bottom-right\n                cored of the figure. Has only an effect only on\n                graphs that have been generated via forked\n                graphs from the plotly service (at\n                https://plot.ly or on-premise).\n            hoverdistance\n                Sets the default distance (in pixels) to look\n                for data to add hover labels (-1 means no\n                cutoff, 0 means no looking for data). This is\n                only a real distance for hovering on point-like\n                objects, like scatter points. For area-like\n                objects (bars, scatter fills, etc) hovering is\n                on inside the area and off outside, but these\n                objects will not supersede hover on point-like\n                objects in case of conflict.\n            hoverlabel\n                plotly.graph_objs.layout.Hoverlabel instance or\n                dict with compatible properties\n            hovermode\n                Determines the mode of hover interactions.\n            images\n                plotly.graph_objs.layout.Image instance or dict\n                with compatible properties\n            legend\n                plotly.graph_objs.layout.Legend instance or\n                dict with compatible properties\n            mapbox\n                plotly.graph_objs.layout.Mapbox instance or\n                dict with compatible properties\n            margin\n                plotly.graph_objs.layout.Margin instance or\n                dict with compatible properties\n            orientation\n                For polar plots only. Rotates the entire polar\n                by the given angle.\n            paper_bgcolor\n                Sets the color of paper where the graph is\n                drawn.\n            plot_bgcolor\n                Sets the color of plotting area in-between x\n                and y axes.\n            polar\n                plotly.graph_objs.layout.Polar instance or dict\n                with compatible properties\n            radialaxis\n                plotly.graph_objs.layout.RadialAxis instance or\n                dict with compatible properties\n            scene\n                plotly.graph_objs.layout.Scene instance or dict\n                with compatible properties\n            selectdirection\n                When \"dragmode\" is set to \"select\", this limits\n                the selection of the drag to horizontal,\n                vertical or diagonal. \"h\" only allows\n                horizontal selection, \"v\" only vertical, \"d\"\n                only diagonal and \"any\" sets no limit.\n            separators\n                Sets the decimal and thousand separators. For\n                example, *. * puts a '.' before decimals and a\n                space between thousands. In English locales,\n                dflt is *.,* but other locales may alter this\n                default.\n            shapes\n                plotly.graph_objs.layout.Shape instance or dict\n                with compatible properties\n            showlegend\n                Determines whether or not a legend is drawn.\n            sliders\n                plotly.graph_objs.layout.Slider instance or\n                dict with compatible properties\n            spikedistance\n                Sets the default distance (in pixels) to look\n                for data to draw spikelines to (-1 means no\n                cutoff, 0 means no looking for data). As with\n                hoverdistance, distance does not apply to area-\n                like objects. In addition, some objects can be\n                hovered on but will not generate spikelines,\n                such as scatter fills.\n            template\n                Default attributes to be applied to the plot.\n                Templates can be created from existing plots\n                using `Plotly.makeTemplate`, or created\n                manually. They should be objects with format:\n                `{layout: layoutTemplate, data: {[type]:\n                [traceTemplate, ...]}, ...}` `layoutTemplate`\n                and `traceTemplate` are objects matching the\n                attribute structure of `layout` and a data\n                trace.  Trace templates are applied cyclically\n                to traces of each type. Container arrays (eg\n                `annotations`) have special handling: An object\n                ending in `defaults` (eg `annotationdefaults`)\n                is applied to each array item. But if an item\n                has a `templateitemname` key we look in the\n                template array for an item with matching `name`\n                and apply that instead. If no matching `name`\n                is found we mark the item invisible. Any named\n                template item not referenced is appended to the\n                end of the array, so you can use this for a\n                watermark annotation or a logo image, for\n                example. To omit one of these items on the\n                plot, make an item with matching\n                `templateitemname` and `visible: false`.\n            ternary\n                plotly.graph_objs.layout.Ternary instance or\n                dict with compatible properties\n            title\n                Sets the plot's title.\n            titlefont\n                Sets the title font.\n            updatemenus\n                plotly.graph_objs.layout.Updatemenu instance or\n                dict with compatible properties\n            violingap\n                Sets the gap (in plot fraction) between violins\n                of adjacent location coordinates.\n            violingroupgap\n                Sets the gap (in plot fraction) between violins\n                of the same location coordinate.\n            violinmode\n                Determines how violins at the same location\n                coordinate are displayed on the graph. If\n                *group*, the violins are plotted next to one\n                another centered around the shared location. If\n                *overlay*, the violins are plotted over one\n                another, you might need to set *opacity* to see\n                them multiple violins.\n            width\n                Sets the plot's width (in px).\n            xaxis\n                plotly.graph_objs.layout.XAxis instance or dict\n                with compatible properties\n            yaxis\n                plotly.graph_objs.layout.YAxis instance or dict\n                with compatible properties",
     "output_type": "error",
     "traceback": [
      "\u001b[0;31m---------------------------------------------------------------------------\u001b[0m",
      "\u001b[0;31mValueError\u001b[0m                                Traceback (most recent call last)",
      "\u001b[0;32m<ipython-input-30-d7a6910c1e31>\u001b[0m in \u001b[0;36m<module>\u001b[0;34m()\u001b[0m\n\u001b[1;32m      3\u001b[0m \u001b[0;34m\u001b[0m\u001b[0m\n\u001b[1;32m      4\u001b[0m \u001b[0mdata\u001b[0m \u001b[0;34m=\u001b[0m \u001b[0mgo\u001b[0m\u001b[0;34m.\u001b[0m\u001b[0mData\u001b[0m\u001b[0;34m(\u001b[0m\u001b[0mribbon_info\u001b[0m\u001b[0;34m+\u001b[0m\u001b[0mideograms\u001b[0m\u001b[0;34m)\u001b[0m\u001b[0;34m\u001b[0m\u001b[0;34m\u001b[0m\u001b[0m\n\u001b[0;32m----> 5\u001b[0;31m \u001b[0mfig\u001b[0m \u001b[0;34m=\u001b[0m \u001b[0mgo\u001b[0m\u001b[0;34m.\u001b[0m\u001b[0mFigure\u001b[0m\u001b[0;34m(\u001b[0m\u001b[0mdata\u001b[0m\u001b[0;34m=\u001b[0m\u001b[0mdata\u001b[0m\u001b[0;34m,\u001b[0m \u001b[0mlayout\u001b[0m\u001b[0;34m=\u001b[0m\u001b[0mlayout\u001b[0m\u001b[0;34m)\u001b[0m\u001b[0;34m\u001b[0m\u001b[0;34m\u001b[0m\u001b[0m\n\u001b[0m\u001b[1;32m      6\u001b[0m \u001b[0;34m\u001b[0m\u001b[0m\n\u001b[1;32m      7\u001b[0m \u001b[0mpy\u001b[0m\u001b[0;34m.\u001b[0m\u001b[0miplot\u001b[0m\u001b[0;34m(\u001b[0m\u001b[0mfig\u001b[0m\u001b[0;34m,\u001b[0m \u001b[0mfilename\u001b[0m\u001b[0;34m=\u001b[0m\u001b[0;34m'chord-diagram-Fb'\u001b[0m\u001b[0;34m)\u001b[0m\u001b[0;34m\u001b[0m\u001b[0;34m\u001b[0m\u001b[0m\n",
      "\u001b[0;32m/Users/anayahall/anaconda/lib/python3.6/site-packages/plotly/graph_objs/_figure.py\u001b[0m in \u001b[0;36m__init__\u001b[0;34m(self, data, layout, frames)\u001b[0m\n\u001b[1;32m    312\u001b[0m                         \u001b[0mrespective\u001b[0m \u001b[0mtraces\u001b[0m \u001b[0;32min\u001b[0m \u001b[0mthe\u001b[0m \u001b[0mdata\u001b[0m \u001b[0mattribute\u001b[0m\u001b[0;34m\u001b[0m\u001b[0;34m\u001b[0m\u001b[0m\n\u001b[1;32m    313\u001b[0m         \"\"\"\n\u001b[0;32m--> 314\u001b[0;31m         \u001b[0msuper\u001b[0m\u001b[0;34m(\u001b[0m\u001b[0mFigure\u001b[0m\u001b[0;34m,\u001b[0m \u001b[0mself\u001b[0m\u001b[0;34m)\u001b[0m\u001b[0;34m.\u001b[0m\u001b[0m__init__\u001b[0m\u001b[0;34m(\u001b[0m\u001b[0mdata\u001b[0m\u001b[0;34m,\u001b[0m \u001b[0mlayout\u001b[0m\u001b[0;34m,\u001b[0m \u001b[0mframes\u001b[0m\u001b[0;34m)\u001b[0m\u001b[0;34m\u001b[0m\u001b[0;34m\u001b[0m\u001b[0m\n\u001b[0m\u001b[1;32m    315\u001b[0m \u001b[0;34m\u001b[0m\u001b[0m\n\u001b[1;32m    316\u001b[0m     def add_area(\n",
      "\u001b[0;32m/Users/anayahall/anaconda/lib/python3.6/site-packages/plotly/basedatatypes.py\u001b[0m in \u001b[0;36m__init__\u001b[0;34m(self, data, layout_plotly, frames)\u001b[0m\n\u001b[1;32m    155\u001b[0m \u001b[0;34m\u001b[0m\u001b[0m\n\u001b[1;32m    156\u001b[0m         \u001b[0;31m# ### Import Layout ###\u001b[0m\u001b[0;34m\u001b[0m\u001b[0;34m\u001b[0m\u001b[0;34m\u001b[0m\u001b[0m\n\u001b[0;32m--> 157\u001b[0;31m         \u001b[0mself\u001b[0m\u001b[0;34m.\u001b[0m\u001b[0m_layout_obj\u001b[0m \u001b[0;34m=\u001b[0m \u001b[0mself\u001b[0m\u001b[0;34m.\u001b[0m\u001b[0m_layout_validator\u001b[0m\u001b[0;34m.\u001b[0m\u001b[0mvalidate_coerce\u001b[0m\u001b[0;34m(\u001b[0m\u001b[0mlayout\u001b[0m\u001b[0;34m)\u001b[0m\u001b[0;34m\u001b[0m\u001b[0;34m\u001b[0m\u001b[0m\n\u001b[0m\u001b[1;32m    158\u001b[0m \u001b[0;34m\u001b[0m\u001b[0m\n\u001b[1;32m    159\u001b[0m         \u001b[0;31m# ### Import clone of layout properties ###\u001b[0m\u001b[0;34m\u001b[0m\u001b[0;34m\u001b[0m\u001b[0;34m\u001b[0m\u001b[0m\n",
      "\u001b[0;32m/Users/anayahall/anaconda/lib/python3.6/site-packages/_plotly_utils/basevalidators.py\u001b[0m in \u001b[0;36mvalidate_coerce\u001b[0;34m(self, v)\u001b[0m\n\u001b[1;32m   1789\u001b[0m             \u001b[0mv\u001b[0m \u001b[0;34m=\u001b[0m \u001b[0mself\u001b[0m\u001b[0;34m.\u001b[0m\u001b[0mdata_class\u001b[0m\u001b[0;34m(\u001b[0m\u001b[0;34m**\u001b[0m\u001b[0mv\u001b[0m\u001b[0;34m.\u001b[0m\u001b[0mto_plotly_json\u001b[0m\u001b[0;34m(\u001b[0m\u001b[0;34m)\u001b[0m\u001b[0;34m)\u001b[0m\u001b[0;34m\u001b[0m\u001b[0;34m\u001b[0m\u001b[0m\n\u001b[1;32m   1790\u001b[0m         \u001b[0;32melse\u001b[0m\u001b[0;34m:\u001b[0m\u001b[0;34m\u001b[0m\u001b[0;34m\u001b[0m\u001b[0m\n\u001b[0;32m-> 1791\u001b[0;31m             \u001b[0mself\u001b[0m\u001b[0;34m.\u001b[0m\u001b[0mraise_invalid_val\u001b[0m\u001b[0;34m(\u001b[0m\u001b[0mv\u001b[0m\u001b[0;34m)\u001b[0m\u001b[0;34m\u001b[0m\u001b[0;34m\u001b[0m\u001b[0m\n\u001b[0m\u001b[1;32m   1792\u001b[0m \u001b[0;34m\u001b[0m\u001b[0m\n\u001b[1;32m   1793\u001b[0m         \u001b[0mv\u001b[0m\u001b[0;34m.\u001b[0m\u001b[0m_plotly_name\u001b[0m \u001b[0;34m=\u001b[0m \u001b[0mself\u001b[0m\u001b[0;34m.\u001b[0m\u001b[0mplotly_name\u001b[0m\u001b[0;34m\u001b[0m\u001b[0;34m\u001b[0m\u001b[0m\n",
      "\u001b[0;32m/Users/anayahall/anaconda/lib/python3.6/site-packages/_plotly_utils/basevalidators.py\u001b[0m in \u001b[0;36mraise_invalid_val\u001b[0;34m(self, v)\u001b[0m\n\u001b[1;32m    214\u001b[0m             \u001b[0mtyp\u001b[0m\u001b[0;34m=\u001b[0m\u001b[0mtype_str\u001b[0m\u001b[0;34m(\u001b[0m\u001b[0mv\u001b[0m\u001b[0;34m)\u001b[0m\u001b[0;34m,\u001b[0m\u001b[0;34m\u001b[0m\u001b[0;34m\u001b[0m\u001b[0m\n\u001b[1;32m    215\u001b[0m             \u001b[0mv\u001b[0m\u001b[0;34m=\u001b[0m\u001b[0mrepr\u001b[0m\u001b[0;34m(\u001b[0m\u001b[0mv\u001b[0m\u001b[0;34m)\u001b[0m\u001b[0;34m,\u001b[0m\u001b[0;34m\u001b[0m\u001b[0;34m\u001b[0m\u001b[0m\n\u001b[0;32m--> 216\u001b[0;31m             valid_clr_desc=self.description()))\n\u001b[0m\u001b[1;32m    217\u001b[0m \u001b[0;34m\u001b[0m\u001b[0m\n\u001b[1;32m    218\u001b[0m     \u001b[0;32mdef\u001b[0m \u001b[0mraise_invalid_elements\u001b[0m\u001b[0;34m(\u001b[0m\u001b[0mself\u001b[0m\u001b[0;34m,\u001b[0m \u001b[0minvalid_els\u001b[0m\u001b[0;34m)\u001b[0m\u001b[0;34m:\u001b[0m\u001b[0;34m\u001b[0m\u001b[0;34m\u001b[0m\u001b[0m\n",
      "\u001b[0;31mValueError\u001b[0m: \n    Invalid value of type 'builtins.list' received for the 'layout' property of \n        Received value: ['angularaxis', 'annotations', 'autosize', 'bargap', 'bargroupgap', 'barmode', 'barnorm', 'boxgap', 'boxgroupgap', 'boxmode', 'calendar', 'colorway', 'datarevision', 'direction', 'dragmode', 'font', 'geo', 'grid', 'height', 'hiddenlabels', 'hiddenlabelssrc', 'hidesources', 'hoverdistance', 'hoverlabel', 'hovermode', 'images', 'legend', 'mapbox', 'margin', 'orientation', 'paper_bgcolor', 'plot_bgcolor', 'polar', 'radialaxis', 'scene', 'selectdirection', 'separators', 'shapes', 'showlegend', 'sliders', 'spikedistance', 'template', 'ternary', 'title', 'titlefont', 'updatemenus', 'violingap', 'violingroupgap', 'violinmode', 'width', 'xaxis', 'yaxis']\n\n    The 'layout' property is an instance of Layout\n    that may be specified as:\n      - An instance of plotly.graph_objs.Layout\n      - A dict of string/value properties that will be passed\n        to the Layout constructor\n\n        Supported dict properties:\n            \n            angularaxis\n                plotly.graph_objs.layout.AngularAxis instance\n                or dict with compatible properties\n            annotations\n                plotly.graph_objs.layout.Annotation instance or\n                dict with compatible properties\n            autosize\n                Determines whether or not a layout width or\n                height that has been left undefined by the user\n                is initialized on each relayout. Note that,\n                regardless of this attribute, an undefined\n                layout width or height is always initialized on\n                the first call to plot.\n            bargap\n                Sets the gap (in plot fraction) between bars of\n                adjacent location coordinates.\n            bargroupgap\n                Sets the gap (in plot fraction) between bars of\n                the same location coordinate.\n            barmode\n                Determines how bars at the same location\n                coordinate are displayed on the graph. With\n                *stack*, the bars are stacked on top of one\n                another With *relative*, the bars are stacked\n                on top of one another, with negative values\n                below the axis, positive values above With\n                *group*, the bars are plotted next to one\n                another centered around the shared location.\n                With *overlay*, the bars are plotted over one\n                another, you might need to an *opacity* to see\n                multiple bars.\n            barnorm\n                Sets the normalization for bar traces on the\n                graph. With *fraction*, the value of each bar\n                is divide by the sum of the values at the\n                location coordinate. With *percent*, the\n                results form *fraction* are presented in\n                percents.\n            boxgap\n                Sets the gap (in plot fraction) between boxes\n                of adjacent location coordinates.\n            boxgroupgap\n                Sets the gap (in plot fraction) between boxes\n                of the same location coordinate.\n            boxmode\n                Determines how boxes at the same location\n                coordinate are displayed on the graph. If\n                *group*, the boxes are plotted next to one\n                another centered around the shared location. If\n                *overlay*, the boxes are plotted over one\n                another, you might need to set *opacity* to see\n                them multiple boxes.\n            calendar\n                Sets the default calendar system to use for\n                interpreting and displaying dates throughout\n                the plot.\n            colorway\n                Sets the default trace colors.\n            datarevision\n                If provided, a changed value tells\n                `Plotly.react` that one or more data arrays has\n                changed. This way you can modify arrays in-\n                place rather than making a complete new copy\n                for an incremental change. If NOT provided,\n                `Plotly.react` assumes that data arrays are\n                being treated as immutable, thus any data array\n                with a different identity from its predecessor\n                contains new data.\n            direction\n                For polar plots only. Sets the direction\n                corresponding to positive angles.\n            dragmode\n                Determines the mode of drag interactions.\n                *select* and *lasso* apply only to scatter\n                traces with markers or text. *orbit* and\n                *turntable* apply only to 3D scenes.\n            font\n                Sets the global font. Note that fonts used in\n                traces and other layout components inherit from\n                the global font.\n            geo\n                plotly.graph_objs.layout.Geo instance or dict\n                with compatible properties\n            grid\n                plotly.graph_objs.layout.Grid instance or dict\n                with compatible properties\n            height\n                Sets the plot's height (in px).\n            hiddenlabels\n\n            hiddenlabelssrc\n                Sets the source reference on plot.ly for\n                hiddenlabels .\n            hidesources\n                Determines whether or not a text link citing\n                the data source is placed at the bottom-right\n                cored of the figure. Has only an effect only on\n                graphs that have been generated via forked\n                graphs from the plotly service (at\n                https://plot.ly or on-premise).\n            hoverdistance\n                Sets the default distance (in pixels) to look\n                for data to add hover labels (-1 means no\n                cutoff, 0 means no looking for data). This is\n                only a real distance for hovering on point-like\n                objects, like scatter points. For area-like\n                objects (bars, scatter fills, etc) hovering is\n                on inside the area and off outside, but these\n                objects will not supersede hover on point-like\n                objects in case of conflict.\n            hoverlabel\n                plotly.graph_objs.layout.Hoverlabel instance or\n                dict with compatible properties\n            hovermode\n                Determines the mode of hover interactions.\n            images\n                plotly.graph_objs.layout.Image instance or dict\n                with compatible properties\n            legend\n                plotly.graph_objs.layout.Legend instance or\n                dict with compatible properties\n            mapbox\n                plotly.graph_objs.layout.Mapbox instance or\n                dict with compatible properties\n            margin\n                plotly.graph_objs.layout.Margin instance or\n                dict with compatible properties\n            orientation\n                For polar plots only. Rotates the entire polar\n                by the given angle.\n            paper_bgcolor\n                Sets the color of paper where the graph is\n                drawn.\n            plot_bgcolor\n                Sets the color of plotting area in-between x\n                and y axes.\n            polar\n                plotly.graph_objs.layout.Polar instance or dict\n                with compatible properties\n            radialaxis\n                plotly.graph_objs.layout.RadialAxis instance or\n                dict with compatible properties\n            scene\n                plotly.graph_objs.layout.Scene instance or dict\n                with compatible properties\n            selectdirection\n                When \"dragmode\" is set to \"select\", this limits\n                the selection of the drag to horizontal,\n                vertical or diagonal. \"h\" only allows\n                horizontal selection, \"v\" only vertical, \"d\"\n                only diagonal and \"any\" sets no limit.\n            separators\n                Sets the decimal and thousand separators. For\n                example, *. * puts a '.' before decimals and a\n                space between thousands. In English locales,\n                dflt is *.,* but other locales may alter this\n                default.\n            shapes\n                plotly.graph_objs.layout.Shape instance or dict\n                with compatible properties\n            showlegend\n                Determines whether or not a legend is drawn.\n            sliders\n                plotly.graph_objs.layout.Slider instance or\n                dict with compatible properties\n            spikedistance\n                Sets the default distance (in pixels) to look\n                for data to draw spikelines to (-1 means no\n                cutoff, 0 means no looking for data). As with\n                hoverdistance, distance does not apply to area-\n                like objects. In addition, some objects can be\n                hovered on but will not generate spikelines,\n                such as scatter fills.\n            template\n                Default attributes to be applied to the plot.\n                Templates can be created from existing plots\n                using `Plotly.makeTemplate`, or created\n                manually. They should be objects with format:\n                `{layout: layoutTemplate, data: {[type]:\n                [traceTemplate, ...]}, ...}` `layoutTemplate`\n                and `traceTemplate` are objects matching the\n                attribute structure of `layout` and a data\n                trace.  Trace templates are applied cyclically\n                to traces of each type. Container arrays (eg\n                `annotations`) have special handling: An object\n                ending in `defaults` (eg `annotationdefaults`)\n                is applied to each array item. But if an item\n                has a `templateitemname` key we look in the\n                template array for an item with matching `name`\n                and apply that instead. If no matching `name`\n                is found we mark the item invisible. Any named\n                template item not referenced is appended to the\n                end of the array, so you can use this for a\n                watermark annotation or a logo image, for\n                example. To omit one of these items on the\n                plot, make an item with matching\n                `templateitemname` and `visible: false`.\n            ternary\n                plotly.graph_objs.layout.Ternary instance or\n                dict with compatible properties\n            title\n                Sets the plot's title.\n            titlefont\n                Sets the title font.\n            updatemenus\n                plotly.graph_objs.layout.Updatemenu instance or\n                dict with compatible properties\n            violingap\n                Sets the gap (in plot fraction) between violins\n                of adjacent location coordinates.\n            violingroupgap\n                Sets the gap (in plot fraction) between violins\n                of the same location coordinate.\n            violinmode\n                Determines how violins at the same location\n                coordinate are displayed on the graph. If\n                *group*, the violins are plotted next to one\n                another centered around the shared location. If\n                *overlay*, the violins are plotted over one\n                another, you might need to set *opacity* to see\n                them multiple violins.\n            width\n                Sets the plot's width (in px).\n            xaxis\n                plotly.graph_objs.layout.XAxis instance or dict\n                with compatible properties\n            yaxis\n                plotly.graph_objs.layout.YAxis instance or dict\n                with compatible properties"
     ]
    }
   ],
   "source": [
    "from plotly.offline import init_notebook_mode\n",
    "init_notebook_mode(connected=True)\n",
    "\n",
    "data = go.Data(ribbon_info+ideograms)\n",
    "fig = go.Figure(data=data, layout=layout)\n",
    "\n",
    "py.iplot(fig, filename='chord-diagram-Fb')"
   ]
  },
  {
   "cell_type": "code",
   "execution_count": null,
   "metadata": {},
   "outputs": [],
   "source": []
  },
  {
   "cell_type": "code",
   "execution_count": 2,
   "metadata": {},
   "outputs": [],
   "source": [
    "import numpy as np\n",
    "import plotly.graph_objs as go\n",
    "# import colorlover as cl\n",
    "\n",
    "\n",
    "def get_spaced_colors(n, randomized=False):\n",
    "    if n > 0:\n",
    "        max_value = 255\n",
    "        interval = max_value / n\n",
    "        hues = np.arange(0, max_value, interval)\n",
    "#         return cl.to_rgb([\"hsl(%d,80%%,40%%)\" % i for i in hues])\n",
    "        return None\n",
    "    else:\n",
    "        return None\n",
    "\n",
    "\n",
    "PI = np.pi\n",
    "\n",
    "\n",
    "def check_square(M):\n",
    "    d, n = M.shape\n",
    "    if d != n:\n",
    "        raise ValueError(\"Data array must be square.\")\n",
    "    return n\n",
    "\n",
    "\n",
    "def moduloAB(x, a, b):\n",
    "    if a >= b:\n",
    "        raise ValueError('Incorrect inverval ends')\n",
    "    y = (x - a) % (b - a)\n",
    "    return y + b if y < 0 else y + a\n",
    "\n",
    "\n",
    "def test_2PI(x):\n",
    "    return 0 <= x < 2 * PI\n",
    "\n",
    "\n",
    "def get_ideogram_ends(ideaogram_len, gap):\n",
    "    ideo_ends = []\n",
    "    left = 0\n",
    "    for k in range(len(ideaogram_len)):\n",
    "        right = left + ideaogram_len[k]\n",
    "        ideo_ends.append([left, right])\n",
    "        left = right + gap\n",
    "    return ideo_ends\n",
    "\n",
    "\n",
    "def make_ideogram_arc(R, phi, a=50):\n",
    "    # R is the circle radius\n",
    "    # Phi is a list of the ends angle coordinates of an arc\n",
    "    # a is a parameter that controls the number of points to be evaluated\n",
    "    if not test_2PI(phi[0]) or not test_2PI(phi[1]):\n",
    "        phi = [moduloAB(t, 0, 2*PI) for t in phi]\n",
    "    length = (phi[1] - phi[0]) % 2 * PI\n",
    "    nr = 5 if length <= PI/4 else int(a * length / PI)\n",
    "    if phi[0] < phi[1]:\n",
    "        theta = np.linspace(phi[0], phi[1], nr)\n",
    "    else:\n",
    "        phi = [moduloAB(t, -PI, PI) for t in phi]\n",
    "        theta = np.linspace(phi[0], phi[1], nr)\n",
    "    return R * np.exp(1j*theta)\n",
    "\n",
    "\n",
    "def map_data(data_matrix, row_value, ideogram_length):\n",
    "    n = data_matrix.shape[0]  # square, so same as 1\n",
    "    mapped = np.zeros([n, n])\n",
    "    for j in range(n):\n",
    "        mapped[:, j] = ideogram_length * data_matrix[:, j] / row_value\n",
    "    return mapped\n",
    "\n",
    "\n",
    "def make_ribbon_ends(mapped_data, ideo_ends, idx_sort):\n",
    "    n = mapped_data.shape[0]\n",
    "    ribbon_boundary = np.zeros((n, n+1))\n",
    "    for k in range(n):\n",
    "        start = ideo_ends[k][0]\n",
    "        ribbon_boundary[k][0] = start\n",
    "        for j in range(1, n+1):\n",
    "            J = idx_sort[k][j-1]\n",
    "            ribbon_boundary[k][j] = start + mapped_data[k][J]\n",
    "            start = ribbon_boundary[k][j]\n",
    "    return [[(ribbon_boundary[k][j], ribbon_boundary[k][j+1])\n",
    "             for j in range(n)] for k in range(n)]\n",
    "\n",
    "\n",
    "def control_pts(angle, radius):\n",
    "    if len(angle) != 3:\n",
    "        raise ValueError('Angle must have len = 3')\n",
    "    b_cplx = np.array([np.exp(1j*angle[k]) for k in range(3)])\n",
    "    b_cplx[1] = radius * b_cplx[1]\n",
    "    return list(zip(b_cplx.real, b_cplx.imag))\n",
    "\n",
    "\n",
    "def ctrl_rib_chords(l, r, radius):\n",
    "    if len(l) != 2 or len(r) != 2:\n",
    "        raise ValueError('The arc ends must be elements in a list of len 2')\n",
    "    return [control_pts([l[j], (l[j]+r[j])/2, r[j]], radius) for j in range(2)]\n",
    "\n",
    "\n",
    "def make_q_bezier(b):\n",
    "    if len(b) != 3:\n",
    "        raise ValueError('Contaol polygon must have 3 points')\n",
    "    A, B, C = b\n",
    "    return 'M ' + str(A[0]) + \",\" + str(A[1]) + \" \" + \"Q \" + \\\n",
    "           str(B[0]) + \", \" + str(B[1]) + \" \" + \\\n",
    "           str(C[0]) + \", \" + str(C[1])\n",
    "\n",
    "\n",
    "def make_ribbon_arc(theta0, theta1):\n",
    "    if test_2PI(theta0) and test_2PI(theta1):\n",
    "        if theta0 < theta1:\n",
    "            theta0 = moduloAB(theta0, -PI, PI)\n",
    "            theta1 = moduloAB(theta1, -PI, PI)\n",
    "            if theta0 * theta1 > 0:\n",
    "                raise ValueError('Incorrect angle coordinates for ribbon')\n",
    "        nr = int(40 * (theta0 - theta1) / PI)\n",
    "        if nr <= 2:\n",
    "            nr = 3\n",
    "        theta = np.linspace(theta0, theta1, nr)\n",
    "        pts = np.exp(1j * theta)\n",
    "        string_arc = ''\n",
    "        for k in range(len(theta)):\n",
    "            string_arc += \"L \" + str(pts.real[k]) + \", \" + str(pts.imag[k])+' '\n",
    "        return string_arc\n",
    "    else:\n",
    "        raise ValueError('The angle coords for arc ribbon must be [0, 2*PI]')\n",
    "\n",
    "\n",
    "def make_layout(title):\n",
    "    xaxis = dict(showline=False,\n",
    "                 zeroline=False,\n",
    "                 showgrid=False,\n",
    "                 showticklabels=False,\n",
    "                 title='')\n",
    "    yaxis = {**xaxis, 'scaleanchor': 'x'}\n",
    "    return dict(title=title,\n",
    "                xaxis=xaxis,\n",
    "                yaxis=yaxis,\n",
    "                showlegend=False,\n",
    "                margin=dict(t=25, b=25, l=25, r=25),\n",
    "                hovermode='closest',\n",
    "                shapes=[])\n",
    "\n",
    "\n",
    "def make_ideo_shape(path, line_color, fill_color):\n",
    "    return dict(\n",
    "        line=go.Line(color=line_color, width=0.45),\n",
    "        path=path,\n",
    "        type='path',\n",
    "        fillcolor=fill_color,\n",
    "        layer='below'\n",
    "    )\n",
    "\n",
    "\n",
    "def make_ribbon(l, r, line_color, fill_color, radius=0.2):\n",
    "    poligon = ctrl_rib_chords(l, r, radius)\n",
    "    b, c = poligon\n",
    "    return dict(line=go.Line(color=line_color, width=0.5),\n",
    "                path=make_q_bezier(b) + make_ribbon_arc(r[0], r[1]) +\n",
    "                make_q_bezier(c[::-1]) + make_ribbon_arc(l[1], l[0]),\n",
    "                type='path',\n",
    "                fillcolor=fill_color,\n",
    "                layer='below')\n",
    "\n",
    "\n",
    "def make_self_rel(l, line_color, fill_color, radius):\n",
    "    b = control_pts([l[0], (l[0]+l[1])/2, l[1]], radius)\n",
    "    return dict(\n",
    "        line=dict(color=line_color, width=0.5),\n",
    "        path=make_q_bezier(b) + make_ribbon_arc(l[1], l[0]),\n",
    "        type='path',\n",
    "        fillcolor=fill_color,\n",
    "        layer='below'\n",
    "    )\n",
    "\n",
    "\n",
    "def invPerm(perm):\n",
    "    inv = [0] * len(perm)\n",
    "    for i, s in enumerate(perm):\n",
    "        inv[s] = i\n",
    "    return inv\n",
    "\n",
    "\n",
    "def make_filled_chord(M):\n",
    "    n = M.shape[0]\n",
    "    labels = M.columns\n",
    "    M = M.T\n",
    "    matrix = M.as_matrix()\n",
    "    row_sum = [np.sum(matrix[k, :]) for k in range(n)]\n",
    "    gap = 2 * PI * 10e-8\n",
    "    ideogram_length = 2*PI*np.asarray(row_sum)/sum(row_sum) - gap*np.ones(n)\n",
    "    ideo_colors = [x[:3] + \"a\" + x[3:-1] + \",.75\" + x[-1] for x in\n",
    "                   get_spaced_colors(len(labels))]\n",
    "    mapped_data = map_data(M.as_matrix(), row_sum, ideogram_length)\n",
    "    idx_sort = np.argsort(mapped_data, axis=1)\n",
    "    ideo_ends = get_ideogram_ends(ideogram_length, gap)\n",
    "    ribbon_ends = make_ribbon_ends(mapped_data, ideo_ends, idx_sort)\n",
    "    ribbon_color = [n * [ideo_colors[k]] for k in range(n)]\n",
    "    layout = make_layout(' ')\n",
    "    ribbon_info = []\n",
    "    radii_sribb = [0.2] * n\n",
    "    for k in range(n):\n",
    "        sigma = idx_sort[k]\n",
    "        sigma_inv = invPerm(sigma)\n",
    "        for j in range(k, n):\n",
    "            if M.iloc[k, j] == 0 and M.iloc[j, k] == 0:\n",
    "                continue\n",
    "            eta = idx_sort[j]\n",
    "            eta_inv = invPerm(eta)\n",
    "            l = ribbon_ends[k][sigma_inv[j]]\n",
    "            if j == k:\n",
    "                layout['shapes'].append(\n",
    "                    make_self_rel(l,\n",
    "                                  'rgb(175,175,175)',\n",
    "                                  ideo_colors[k],\n",
    "                                  radius=radii_sribb[k]))\n",
    "                z = 0.9 * np.exp(1j * (l[0] + l[1]) / 2)\n",
    "                text = labels[k] + \" co-occurs with \" + \\\n",
    "                    \"{:d}\".format(M.iloc[k, k]) + \" of its own appearences\"\n",
    "                ribbon_info.append(\n",
    "                    go.Scatter(x=[z.real],\n",
    "                               y=[z.imag],\n",
    "                               mode='markers',\n",
    "                               text=text,\n",
    "                               hoverinfo=\"text\",\n",
    "                               marker=dict(size=0.5,\n",
    "                                           color=ideo_colors[k])))\n",
    "            else:\n",
    "                r = ribbon_ends[j][eta_inv[k]]\n",
    "                zi = 0.9 * np.exp(1j * (l[0] + l[1]) / 2)\n",
    "                zf = 0.9 * np.exp(1j * (r[0] + r[1]) / 2)\n",
    "                texti = labels[k] + \" co-occurs with \" + \\\n",
    "                    \"{:d}\".format(matrix[k][j]) + \" of the \" + \\\n",
    "                    labels[j] + \" appearences\"\n",
    "                textf = labels[j] + \" co-occurs with \" + \\\n",
    "                    \"{:d}\".format(matrix[j][k]) + \" of the \" + \\\n",
    "                    labels[k] + \" appearences\"\n",
    "                ribbon_info.append(\n",
    "                    go.Scatter(x=[zi.real],\n",
    "                               y=[zi.imag],\n",
    "                               mode='markers',\n",
    "                               text=texti,\n",
    "                               hoverinfo=\"text\",\n",
    "                               marker=dict(size=0.5,\n",
    "                                           color=ribbon_color[k][j])))\n",
    "                ribbon_info.append(\n",
    "                    go.Scatter(x=[zf.real],\n",
    "                               y=[zf.imag],\n",
    "                               mode='markers',\n",
    "                               text=textf,\n",
    "                               hoverinfo=\"text\",\n",
    "                               marker=dict(size=0.5,\n",
    "                                           color=ribbon_color[j][k])))\n",
    "                r = (r[1], r[0])\n",
    "                if matrix[k][j] > matrix[j][k]:\n",
    "                    color_of_highest = ribbon_color[k][j]\n",
    "                else:\n",
    "                    color_of_highest = ribbon_color[j][k]\n",
    "                layout['shapes'].append(\n",
    "                    make_ribbon(l, r, 'rgb(175, 175, 175)',\n",
    "                                color_of_highest))\n",
    "    ideograms = []\n",
    "    for k in range(len(ideo_ends)):\n",
    "        z = make_ideogram_arc(1.1, ideo_ends[k])\n",
    "        zi = make_ideogram_arc(1.0, ideo_ends[k])\n",
    "        m = len(z)\n",
    "        n = len(zi)\n",
    "        ideograms.append(\n",
    "            go.Scatter(x=z.real,\n",
    "                       y=z.imag,\n",
    "                       mode='lines',\n",
    "                       line=dict(color=ideo_colors[k],\n",
    "                                 shape='spline',\n",
    "                                 width=0.25),\n",
    "                       text=labels[k]+'<br>'+'{:d}'.format(row_sum[k]),\n",
    "                       hoverinfo='text'))\n",
    "        path = 'M '\n",
    "        for s in range(m):\n",
    "            path += str(z.real[s]) + ', ' + str(z.imag[s]) + ' L '\n",
    "        Zi = np.array(zi.tolist()[::-1])\n",
    "        for s in range(m):\n",
    "            path += str(Zi.real[s]) + \", \" + str(Zi.imag[s]) + ' L '\n",
    "        path += str(z.real[0]) + ' ,' + str(z.imag[0])\n",
    "        layout['shapes'].append(make_ideo_shape(path,\n",
    "                                                'rgb(150,150,150)',\n",
    "                                                ideo_colors[k]))\n",
    "    data = ideograms + ribbon_info\n",
    "    fig = {\n",
    "        \"data\": data,\n",
    "        \"layout\": layout\n",
    "    }\n",
    "    return fig"
   ]
  },
  {
   "cell_type": "code",
   "execution_count": 3,
   "metadata": {},
   "outputs": [
    {
     "ename": "NameError",
     "evalue": "name 'matrix' is not defined",
     "output_type": "error",
     "traceback": [
      "\u001b[0;31m---------------------------------------------------------------------------\u001b[0m",
      "\u001b[0;31mNameError\u001b[0m                                 Traceback (most recent call last)",
      "\u001b[0;32m<ipython-input-3-933a6213e934>\u001b[0m in \u001b[0;36m<module>\u001b[0;34m()\u001b[0m\n\u001b[0;32m----> 1\u001b[0;31m \u001b[0mmake_filled_chord\u001b[0m\u001b[0;34m(\u001b[0m\u001b[0mmatrix\u001b[0m\u001b[0;34m)\u001b[0m\u001b[0;34m\u001b[0m\u001b[0;34m\u001b[0m\u001b[0m\n\u001b[0m",
      "\u001b[0;31mNameError\u001b[0m: name 'matrix' is not defined"
     ]
    }
   ],
   "source": [
    "make_filled_chord(matrix)"
   ]
  },
  {
   "cell_type": "code",
   "execution_count": null,
   "metadata": {},
   "outputs": [],
   "source": []
  }
 ],
 "metadata": {
  "kernelspec": {
   "display_name": "Python 3",
   "language": "python",
   "name": "python3"
  },
  "language_info": {
   "codemirror_mode": {
    "name": "ipython",
    "version": 3
   },
   "file_extension": ".py",
   "mimetype": "text/x-python",
   "name": "python",
   "nbconvert_exporter": "python",
   "pygments_lexer": "ipython3",
   "version": "3.6.9"
  }
 },
 "nbformat": 4,
 "nbformat_minor": 4
}
