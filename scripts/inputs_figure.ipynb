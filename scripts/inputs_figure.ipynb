{
 "cells": [
  {
   "cell_type": "code",
   "execution_count": 1,
   "metadata": {},
   "outputs": [
    {
     "name": "stdout",
     "output_type": "stream",
     "text": [
      "LOADING DATA\n"
     ]
    },
    {
     "ename": "DriverError",
     "evalue": "/Users/anayahall/projects/compopt/data/raw/CA_Counties/CA_Counties_TIGER2016.shp: No such file or directory",
     "output_type": "error",
     "traceback": [
      "\u001b[0;31m---------------------------------------------------------------------------\u001b[0m",
      "\u001b[0;31mCPLE_OpenFailedError\u001b[0m                      Traceback (most recent call last)",
      "\u001b[0;32mfiona/_shim.pyx\u001b[0m in \u001b[0;36mfiona._shim.gdal_open_vector\u001b[0;34m()\u001b[0m\n",
      "\u001b[0;32mfiona/_err.pyx\u001b[0m in \u001b[0;36mfiona._err.exc_wrap_pointer\u001b[0;34m()\u001b[0m\n",
      "\u001b[0;31mCPLE_OpenFailedError\u001b[0m: /Users/anayahall/projects/compopt/data/raw/CA_Counties/CA_Counties_TIGER2016.shp: No such file or directory",
      "\nDuring handling of the above exception, another exception occurred:\n",
      "\u001b[0;31mDriverError\u001b[0m                               Traceback (most recent call last)",
      "\u001b[0;32m<ipython-input-1-34c14d91c695>\u001b[0m in \u001b[0;36m<module>\u001b[0;34m()\u001b[0m\n\u001b[1;32m     35\u001b[0m \u001b[0;31m# county polygons\u001b[0m\u001b[0;34m\u001b[0m\u001b[0;34m\u001b[0m\u001b[0;34m\u001b[0m\u001b[0m\n\u001b[1;32m     36\u001b[0m county_shape = gpd.read_file(opj(DATA_DIR, \n\u001b[0;32m---> 37\u001b[0;31m         \"raw/CA_Counties/CA_Counties_TIGER2016.shp\")) # OLD- raw shape\n\u001b[0m\u001b[1;32m     38\u001b[0m counties_popcen = pd.read_csv(opj(DATA_DIR, \n\u001b[1;32m     39\u001b[0m         \"counties/CenPop2010_Mean_CO06.txt\")) # NEW - population weighted means!\n",
      "\u001b[0;32m/Users/anayahall/anaconda/lib/python3.6/site-packages/geopandas/io/file.py\u001b[0m in \u001b[0;36mread_file\u001b[0;34m(filename, bbox, **kwargs)\u001b[0m\n\u001b[1;32m     75\u001b[0m \u001b[0;34m\u001b[0m\u001b[0m\n\u001b[1;32m     76\u001b[0m     \u001b[0;32mwith\u001b[0m \u001b[0mfiona_env\u001b[0m\u001b[0;34m(\u001b[0m\u001b[0;34m)\u001b[0m\u001b[0;34m:\u001b[0m\u001b[0;34m\u001b[0m\u001b[0;34m\u001b[0m\u001b[0m\n\u001b[0;32m---> 77\u001b[0;31m         \u001b[0;32mwith\u001b[0m \u001b[0mreader\u001b[0m\u001b[0;34m(\u001b[0m\u001b[0mpath_or_bytes\u001b[0m\u001b[0;34m,\u001b[0m \u001b[0;34m**\u001b[0m\u001b[0mkwargs\u001b[0m\u001b[0;34m)\u001b[0m \u001b[0;32mas\u001b[0m \u001b[0mfeatures\u001b[0m\u001b[0;34m:\u001b[0m\u001b[0;34m\u001b[0m\u001b[0;34m\u001b[0m\u001b[0m\n\u001b[0m\u001b[1;32m     78\u001b[0m \u001b[0;34m\u001b[0m\u001b[0m\n\u001b[1;32m     79\u001b[0m             \u001b[0;31m# In a future Fiona release the crs attribute of features will\u001b[0m\u001b[0;34m\u001b[0m\u001b[0;34m\u001b[0m\u001b[0;34m\u001b[0m\u001b[0m\n",
      "\u001b[0;32m/Users/anayahall/anaconda/lib/python3.6/site-packages/fiona/env.py\u001b[0m in \u001b[0;36mwrapper\u001b[0;34m(*args, **kwargs)\u001b[0m\n\u001b[1;32m    394\u001b[0m     \u001b[0;32mdef\u001b[0m \u001b[0mwrapper\u001b[0m\u001b[0;34m(\u001b[0m\u001b[0;34m*\u001b[0m\u001b[0margs\u001b[0m\u001b[0;34m,\u001b[0m \u001b[0;34m**\u001b[0m\u001b[0mkwargs\u001b[0m\u001b[0;34m)\u001b[0m\u001b[0;34m:\u001b[0m\u001b[0;34m\u001b[0m\u001b[0;34m\u001b[0m\u001b[0m\n\u001b[1;32m    395\u001b[0m         \u001b[0;32mif\u001b[0m \u001b[0mlocal\u001b[0m\u001b[0;34m.\u001b[0m\u001b[0m_env\u001b[0m\u001b[0;34m:\u001b[0m\u001b[0;34m\u001b[0m\u001b[0;34m\u001b[0m\u001b[0m\n\u001b[0;32m--> 396\u001b[0;31m             \u001b[0;32mreturn\u001b[0m \u001b[0mf\u001b[0m\u001b[0;34m(\u001b[0m\u001b[0;34m*\u001b[0m\u001b[0margs\u001b[0m\u001b[0;34m,\u001b[0m \u001b[0;34m**\u001b[0m\u001b[0mkwargs\u001b[0m\u001b[0;34m)\u001b[0m\u001b[0;34m\u001b[0m\u001b[0;34m\u001b[0m\u001b[0m\n\u001b[0m\u001b[1;32m    397\u001b[0m         \u001b[0;32melse\u001b[0m\u001b[0;34m:\u001b[0m\u001b[0;34m\u001b[0m\u001b[0;34m\u001b[0m\u001b[0m\n\u001b[1;32m    398\u001b[0m             \u001b[0;32mif\u001b[0m \u001b[0misinstance\u001b[0m\u001b[0;34m(\u001b[0m\u001b[0margs\u001b[0m\u001b[0;34m[\u001b[0m\u001b[0;36m0\u001b[0m\u001b[0;34m]\u001b[0m\u001b[0;34m,\u001b[0m \u001b[0mstr\u001b[0m\u001b[0;34m)\u001b[0m\u001b[0;34m:\u001b[0m\u001b[0;34m\u001b[0m\u001b[0;34m\u001b[0m\u001b[0m\n",
      "\u001b[0;32m/Users/anayahall/anaconda/lib/python3.6/site-packages/fiona/__init__.py\u001b[0m in \u001b[0;36mopen\u001b[0;34m(fp, mode, driver, schema, crs, encoding, layer, vfs, enabled_drivers, crs_wkt, **kwargs)\u001b[0m\n\u001b[1;32m    251\u001b[0m         \u001b[0;32mif\u001b[0m \u001b[0mmode\u001b[0m \u001b[0;32min\u001b[0m \u001b[0;34m(\u001b[0m\u001b[0;34m'a'\u001b[0m\u001b[0;34m,\u001b[0m \u001b[0;34m'r'\u001b[0m\u001b[0;34m)\u001b[0m\u001b[0;34m:\u001b[0m\u001b[0;34m\u001b[0m\u001b[0;34m\u001b[0m\u001b[0m\n\u001b[1;32m    252\u001b[0m             c = Collection(path, mode, driver=driver, encoding=encoding,\n\u001b[0;32m--> 253\u001b[0;31m                            layer=layer, enabled_drivers=enabled_drivers, **kwargs)\n\u001b[0m\u001b[1;32m    254\u001b[0m         \u001b[0;32melif\u001b[0m \u001b[0mmode\u001b[0m \u001b[0;34m==\u001b[0m \u001b[0;34m'w'\u001b[0m\u001b[0;34m:\u001b[0m\u001b[0;34m\u001b[0m\u001b[0;34m\u001b[0m\u001b[0m\n\u001b[1;32m    255\u001b[0m             \u001b[0;32mif\u001b[0m \u001b[0mschema\u001b[0m\u001b[0;34m:\u001b[0m\u001b[0;34m\u001b[0m\u001b[0;34m\u001b[0m\u001b[0m\n",
      "\u001b[0;32m/Users/anayahall/anaconda/lib/python3.6/site-packages/fiona/collection.py\u001b[0m in \u001b[0;36m__init__\u001b[0;34m(self, path, mode, driver, schema, crs, encoding, layer, vsi, archive, enabled_drivers, crs_wkt, ignore_fields, ignore_geometry, **kwargs)\u001b[0m\n\u001b[1;32m    157\u001b[0m             \u001b[0;32mif\u001b[0m \u001b[0mself\u001b[0m\u001b[0;34m.\u001b[0m\u001b[0mmode\u001b[0m \u001b[0;34m==\u001b[0m \u001b[0;34m'r'\u001b[0m\u001b[0;34m:\u001b[0m\u001b[0;34m\u001b[0m\u001b[0;34m\u001b[0m\u001b[0m\n\u001b[1;32m    158\u001b[0m                 \u001b[0mself\u001b[0m\u001b[0;34m.\u001b[0m\u001b[0msession\u001b[0m \u001b[0;34m=\u001b[0m \u001b[0mSession\u001b[0m\u001b[0;34m(\u001b[0m\u001b[0;34m)\u001b[0m\u001b[0;34m\u001b[0m\u001b[0;34m\u001b[0m\u001b[0m\n\u001b[0;32m--> 159\u001b[0;31m                 \u001b[0mself\u001b[0m\u001b[0;34m.\u001b[0m\u001b[0msession\u001b[0m\u001b[0;34m.\u001b[0m\u001b[0mstart\u001b[0m\u001b[0;34m(\u001b[0m\u001b[0mself\u001b[0m\u001b[0;34m,\u001b[0m \u001b[0;34m**\u001b[0m\u001b[0mkwargs\u001b[0m\u001b[0;34m)\u001b[0m\u001b[0;34m\u001b[0m\u001b[0;34m\u001b[0m\u001b[0m\n\u001b[0m\u001b[1;32m    160\u001b[0m             \u001b[0;32melif\u001b[0m \u001b[0mself\u001b[0m\u001b[0;34m.\u001b[0m\u001b[0mmode\u001b[0m \u001b[0;32min\u001b[0m \u001b[0;34m(\u001b[0m\u001b[0;34m'a'\u001b[0m\u001b[0;34m,\u001b[0m \u001b[0;34m'w'\u001b[0m\u001b[0;34m)\u001b[0m\u001b[0;34m:\u001b[0m\u001b[0;34m\u001b[0m\u001b[0;34m\u001b[0m\u001b[0m\n\u001b[1;32m    161\u001b[0m                 \u001b[0mself\u001b[0m\u001b[0;34m.\u001b[0m\u001b[0msession\u001b[0m \u001b[0;34m=\u001b[0m \u001b[0mWritingSession\u001b[0m\u001b[0;34m(\u001b[0m\u001b[0;34m)\u001b[0m\u001b[0;34m\u001b[0m\u001b[0;34m\u001b[0m\u001b[0m\n",
      "\u001b[0;32mfiona/ogrext.pyx\u001b[0m in \u001b[0;36mfiona.ogrext.Session.start\u001b[0;34m()\u001b[0m\n",
      "\u001b[0;32mfiona/_shim.pyx\u001b[0m in \u001b[0;36mfiona._shim.gdal_open_vector\u001b[0;34m()\u001b[0m\n",
      "\u001b[0;31mDriverError\u001b[0m: /Users/anayahall/projects/compopt/data/raw/CA_Counties/CA_Counties_TIGER2016.shp: No such file or directory"
     ]
    }
   ],
   "source": [
    "# PLOTS - inputs\n",
    "\n",
    "# import modules\n",
    "import pandas as pd\n",
    "import numpy as np\n",
    "import shapely as shp\n",
    "import geopandas as gpd\n",
    "from os.path import join as opj\n",
    "import matplotlib.pyplot as plt\n",
    "import os\n",
    "import pickle\n",
    "\n",
    "\n",
    "# suppress warnings in jupyter notebook!\n",
    "import warnings\n",
    "warnings.simplefilter('ignore')\n",
    "\n",
    "def Fetch(df, key_col, key, value):\n",
    "    #counties['disposal'].loc[counties['COUNTY']=='San Diego'].values[0]\n",
    "    return df[value].loc[df[key_col]==key].values[0]\n",
    "\n",
    "# set data path\n",
    "DATA_DIR = \"/Users/anayahall/projects/compopt/data\"\n",
    "\n",
    "print(\"LOADING DATA\")\n",
    "\n",
    "# read in data\n",
    "# rangeland polygons\n",
    "rangelands = gpd.read_file(opj(DATA_DIR, \"raw/CA_FMMP_G/gl_bycounty/grazingland_county.shp\"))\n",
    "rangelands = rangelands.to_crs(epsg=4326)\n",
    "rangelands['centroid'] = rangelands['geometry'].centroid \n",
    "rl_lon, rl_lat = rangelands.centroid.x, rangelands.centroid.y\n",
    "\n",
    "\n",
    "# county polygons\n",
    "county_shape = gpd.read_file(opj(DATA_DIR, \n",
    "        \"raw/CA_Counties/CA_Counties_TIGER2016.shp\")) # OLD- raw shape\n",
    "counties_popcen = pd.read_csv(opj(DATA_DIR, \n",
    "        \"counties/CenPop2010_Mean_CO06.txt\")) # NEW - population weighted means!\n",
    "counties_popcen.rename(columns = {'LATITUDE': 'lat', \n",
    "        'LONGITUDE': 'lon', 'COUNAME': 'COUNTY'}, inplace=True)\n",
    "\n",
    "county_shape = county_shape.to_crs(epsg=4326)\n",
    "county_shape.rename(columns = {'COUNTYFP': 'COUNTY'}, inplace=True)\n",
    "county_shape['county_centroid'] = county_shape['geometry'].centroid\n",
    "\n",
    "\n",
    "# solid waste inventory data (CLEANED)\n",
    "swis =  gpd.read_file(opj(DATA_DIR, \"clean/clean_swis.shp\"))\n",
    "\n",
    "\n",
    "# Minimize geodataframe to dataframe with just fields of interest\n",
    "swis_df = swis[['SwisNo', 'Name', 'Latitude', 'Longitude', 'cap_m3', 'AcceptedWa']]\n",
    "\n",
    "# rename lat and lon for easier plotting\n",
    "swis_df.rename(columns = {'Latitude': 'lat', 'Longitude': 'lon'}, inplace=True)\n",
    "\n",
    "# may just want foodwaste for adding to the plot\n",
    "foodwaste_facilities = swis_df[swis_df['AcceptedWa'].str.contains(\"Food\", na=False)]\n",
    "\n"
   ]
  },
  {
   "cell_type": "code",
   "execution_count": 119,
   "metadata": {},
   "outputs": [],
   "source": [
    "# function to group by region\n",
    "def add_region_variable(df, county_column):\n",
    "    '''\n",
    "    Function to add a region category column to existing california dataframe (or geodataframe)\n",
    "    Requires a dataframe with a column with county names and what that column is called\n",
    "    Returns the same data frame with a new column describing region\n",
    "    \n",
    "    \n",
    "    Regional categories based on CalRecycle's recommendations\n",
    "    (https://www.calrecycle.ca.gov/LGCentral/Summaries/Regional/Regions/)\n",
    "    \n",
    "    '''\n",
    "    \n",
    "    df['Region'] = np.NaN\n",
    "\n",
    "    BayArea = ['BayArea', 'Alameda', 'Contra Costa', 'Marin', 'Napa', 'San Francisco',\n",
    "              'San Mateo', 'Santa Clara', 'Solano', 'Sonoma']\n",
    "    CentralCoast = ['CentralCoast', 'Monterey', 'San Benito', 'San Luis Obispo',\n",
    "                   'Santa Barbara', 'Santa Cruz']\n",
    "    CentralValleyN = ['CentralValleyNorth', 'Butte', 'Colusa', 'Glenn', 'Placer', \n",
    "                    'Sacramento', 'Shasta', 'Sutter', 'Tehama', 'Yolo', 'Yuba']\n",
    "    CentralValleyS = ['CentralValleySouth', 'Fresno', 'Kern', 'Kings', 'Madera', 'Merced', 'San Joaquin',\n",
    "                     'Stanislaus', 'Tulare']\n",
    "    CoastalN = ['CoastalNorth', 'Del Norte', 'Humboldt', 'Lake', 'Mendocino']\n",
    "    MountainN = ['MountainNorth', 'Lassen', 'Modoc', 'Nevada', 'Plumas', 'Sierra', 'Siskiyou',\n",
    "                'Trinity']\n",
    "    MountainS = ['MountainSouth','Alpine', 'Amador', 'Calaveras', 'El Dorado', 'Inyo', 'Mariposa', 'Mono', \n",
    "                'Tuolumne']\n",
    "    SouthernCalCoastal = ['SoCalCoastal', 'Los Angeles', 'Orange', 'San Diego', 'Ventura']\n",
    "    SouthernCalInland = ['SoCalInland', 'Imperial', 'Riverside', 'San Bernardino']\n",
    "\n",
    "\n",
    "    regions = np.array([bayArea, CentralCoast, CentralValleyN,\n",
    "                       CentralValleyS, CoastalN, MountainS,\n",
    "                       MountainN, SouthernCalCoastal, SouthernCalInland])\n",
    "\n",
    "    for r in regions:\n",
    "    #     print(r, t)\n",
    "    #     print(regions[r][0])\n",
    "        for county in df[county_column]:\n",
    "            if np.isin(county, r):\n",
    "    #             print(county, ' found in region : ', r[0])\n",
    "                df.loc[df[county_column] == county,\n",
    "                                    'Region'] = r[0]\n",
    "\n",
    "    return df\n"
   ]
  },
  {
   "cell_type": "code",
   "execution_count": 124,
   "metadata": {},
   "outputs": [],
   "source": [
    "counties_popcen = add_region_variable(counties_popcen, 'COUNTY')\n",
    "county_shape =  add_region_variable(county_shape, 'NAME')\n",
    "swis = add_region_variable(swis, 'County')"
   ]
  },
  {
   "cell_type": "code",
   "execution_count": 129,
   "metadata": {},
   "outputs": [],
   "source": [
    "# swis['County']\n",
    "regional_capacity = swis.groupby('Region').sum()\n"
   ]
  },
  {
   "cell_type": "code",
   "execution_count": 136,
   "metadata": {},
   "outputs": [
    {
     "name": "stdout",
     "output_type": "stream",
     "text": [
      "/Users/anayahall/projects/compopt/scripts\n"
     ]
    }
   ],
   "source": [
    "cd ../scripts\n"
   ]
  },
  {
   "cell_type": "code",
   "execution_count": null,
   "metadata": {
    "collapsed": true,
    "jupyter": {
     "outputs_hidden": true
    }
   },
   "outputs": [],
   "source": []
  }
 ],
 "metadata": {
  "kernelspec": {
   "display_name": "Python 3",
   "language": "python",
   "name": "python3"
  },
  "language_info": {
   "codemirror_mode": {
    "name": "ipython",
    "version": 3
   },
   "file_extension": ".py",
   "mimetype": "text/x-python",
   "name": "python",
   "nbconvert_exporter": "python",
   "pygments_lexer": "ipython3",
   "version": "3.6.9"
  }
 },
 "nbformat": 4,
 "nbformat_minor": 4
}
