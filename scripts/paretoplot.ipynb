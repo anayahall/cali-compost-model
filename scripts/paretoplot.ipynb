{
 "cells": [
  {
   "cell_type": "code",
   "execution_count": 1,
   "metadata": {},
   "outputs": [],
   "source": [
    "# graph pareto results\n",
    "import pickle\n",
    "\n",
    "with open('out/resultsarray.p', 'rb') as f:\n",
    "    RL_results = pickle.load(f)\n",
    "\n",
    "RL_results\n",
    "\n"
   ]
  },
  {
   "cell_type": "code",
   "execution_count": 3,
   "metadata": {},
   "outputs": [
    {
     "data": {
      "text/plain": [
       "array([[ 1.70573838e-02, -1.00000000e+03],\n",
       "       [ 5.91910238e-03, -7.71419720e+01],\n",
       "       [-0.00000000e+00,             nan],\n",
       "       [-0.00000000e+00,             nan],\n",
       "       [-0.00000000e+00,             nan],\n",
       "       [-0.00000000e+00,             nan],\n",
       "       [-0.00000000e+00,             nan],\n",
       "       [-0.00000000e+00,             nan],\n",
       "       [-0.00000000e+00,             nan],\n",
       "       [-0.00000000e+00,             nan]])"
      ]
     },
     "execution_count": 3,
     "metadata": {},
     "output_type": "execute_result"
    }
   ],
   "source": []
  },
  {
   "cell_type": "code",
   "execution_count": null,
   "metadata": {},
   "outputs": [],
   "source": []
  }
 ],
 "metadata": {
  "kernelspec": {
   "display_name": "Python 3",
   "language": "python",
   "name": "python3"
  },
  "language_info": {
   "codemirror_mode": {
    "name": "ipython",
    "version": 3
   },
   "file_extension": ".py",
   "mimetype": "text/x-python",
   "name": "python",
   "nbconvert_exporter": "python",
   "pygments_lexer": "ipython3",
   "version": "3.7.9"
  }
 },
 "nbformat": 4,
 "nbformat_minor": 4
}
